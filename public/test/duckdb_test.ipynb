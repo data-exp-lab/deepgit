{
 "cells": [
  {
   "cell_type": "code",
   "execution_count": 6,
   "id": "9cef20d5-c51f-4597-afd9-456c7c26f5f4",
   "metadata": {},
   "outputs": [
    {
     "name": "stdout",
     "output_type": "stream",
     "text": [
      "[{'name': 'prolog', 'count': 65}, {'name': 'logic', 'count': 23}, {'name': 'datalog', 'count': 22}, {'name': 'python', 'count': 18}, {'name': 'functional-programming', 'count': 16}, {'name': 'artificial-intelligence', 'count': 14}, {'name': 'minikanren', 'count': 13}, {'name': 'haskell', 'count': 12}, {'name': 'programming-language', 'count': 11}, {'name': 'language', 'count': 10}, {'name': 'javascript', 'count': 9}, {'name': 'answer-set-programming', 'count': 9}, {'name': 'java', 'count': 8}, {'name': 'swi-prolog', 'count': 7}, {'name': 'rust', 'count': 7}, {'name': 'declarative-programming', 'count': 6}, {'name': 'unification', 'count': 6}, {'name': 'c', 'count': 6}, {'name': 'machine-learning', 'count': 6}, {'name': 'smt', 'count': 6}, {'name': 'interpreter', 'count': 6}, {'name': 'sat-solver', 'count': 6}, {'name': 'constraints', 'count': 6}, {'name': 'object-oriented-programming', 'count': 5}, {'name': 'prolog-implementation', 'count': 5}, {'name': 'prolog-programming-language', 'count': 5}, {'name': 'probabilistic-programming', 'count': 5}, {'name': 'compiler', 'count': 4}, {'name': 'game', 'count': 4}, {'name': 'backtracking', 'count': 4}, {'name': 'clojure', 'count': 4}, {'name': 'planning', 'count': 4}, {'name': 'oop', 'count': 4}, {'name': 'python3', 'count': 4}, {'name': 'first-order-logic', 'count': 4}, {'name': 'csharp', 'count': 4}, {'name': 'deep-learning', 'count': 4}, {'name': 'logical-programming', 'count': 4}, {'name': 'cpp', 'count': 4}, {'name': 'solver', 'count': 4}, {'name': 'microkanren', 'count': 4}, {'name': 'logica-de-programacao', 'count': 4}, {'name': 'scheme', 'count': 4}, {'name': 'dsl', 'count': 4}, {'name': 'metaprogramming', 'count': 4}, {'name': 'go', 'count': 4}, {'name': 'kanren', 'count': 4}, {'name': 'typescript', 'count': 4}, {'name': 'query-language', 'count': 4}, {'name': 'swipl', 'count': 4}, {'name': 'education', 'count': 3}, {'name': 'programming-paradigms', 'count': 3}, {'name': 'concurrent-programming', 'count': 3}, {'name': 'arrays', 'count': 3}, {'name': 'inductive-logic-programming', 'count': 3}, {'name': 'linux', 'count': 3}, {'name': 'differentiable-programming', 'count': 3}, {'name': 'knowledge-base', 'count': 3}, {'name': 'rule-engine', 'count': 3}, {'name': 'programming-languages', 'count': 3}, {'name': 'dcg', 'count': 3}, {'name': 'ai', 'count': 3}, {'name': 'constraint-programming', 'count': 3}, {'name': 'logic-gates', 'count': 3}, {'name': 'kotlin', 'count': 3}, {'name': 'exercises', 'count': 3}, {'name': 'ocaml', 'count': 3}, {'name': 'verilog', 'count': 3}, {'name': 'expert-system', 'count': 3}, {'name': 'natural-language-processing', 'count': 3}, {'name': 'constraint-logic-programming', 'count': 3}, {'name': 'programming', 'count': 3}, {'name': 'picosat', 'count': 3}, {'name': 'souffle', 'count': 3}, {'name': 'probabilistic-logic-programming', 'count': 3}, {'name': 'scala', 'count': 3}, {'name': 'knowledge-representation', 'count': 3}]\n"
     ]
    }
   ],
   "source": [
    "import duckdb\n",
    "import pandas as pd\n",
    "from collections import Counter\n",
    "\n",
    "search_term = \"logic-programming\"\n",
    "\n",
    "# Step 1: Connect to the DuckDB file\n",
    "con = duckdb.connect(database='../../public/data/github_meta.duckdb', read_only=True)\n",
    "con.execute(\"SET threads TO 10;\")  # Adjust based on your system\n",
    "\n",
    "# Step 2: Get nameWithOwner and topic names from normalized table\n",
    "query = \"\"\"\n",
    "    SELECT r.nameWithOwner, t.topic\n",
    "    FROM repos r\n",
    "    JOIN repo_topics t ON r.nameWithOwner = t.repo\n",
    "\"\"\"\n",
    "df = con.execute(query).fetchdf()\n",
    "\n",
    "# Step 3: Group topics by repo into a list\n",
    "grouped = df.groupby(\"nameWithOwner\")[\"topic\"].apply(list).reset_index()\n",
    "grouped.columns = [\"nameWithOwner\", \"topics\"]\n",
    "\n",
    "# Step 4: Filter repos based on search term in topics\n",
    "search_term_lower = search_term.lower()\n",
    "filtered_df = grouped[grouped[\"topics\"].apply(lambda x: search_term_lower in [t.lower() for t in x])]\n",
    "\n",
    "# Step 5: Count all co-occurring topics\n",
    "all_topics = [topic for topics in filtered_df[\"topics\"] for topic in topics]\n",
    "topic_counts = Counter([t.lower() for t in all_topics])\n",
    "\n",
    "# Remove the searched topic itself\n",
    "topic_counts.pop(search_term_lower, None)\n",
    "\n",
    "# Step 6: Convert to list of dicts and sort, only including topics with count > 2\n",
    "topics = [{\"name\": name, \"count\": count} for name, count in topic_counts.items() if count > 2]\n",
    "topics = sorted(topics, key=lambda x: x[\"count\"], reverse=True)\n",
    "\n",
    "# Print results\n",
    "print(topics)"
   ]
  },
  {
   "cell_type": "code",
   "execution_count": null,
   "id": "dba3a380-c7e9-465b-b2e0-6b47d01511ac",
   "metadata": {},
   "outputs": [],
   "source": []
  }
 ],
 "metadata": {
  "kernelspec": {
   "display_name": "Python 3 (ipykernel)",
   "language": "python",
   "name": "python3"
  },
  "language_info": {
   "codemirror_mode": {
    "name": "ipython",
    "version": 3
   },
   "file_extension": ".py",
   "mimetype": "text/x-python",
   "name": "python",
   "nbconvert_exporter": "python",
   "pygments_lexer": "ipython3",
   "version": "3.10.13"
  }
 },
 "nbformat": 4,
 "nbformat_minor": 5
}

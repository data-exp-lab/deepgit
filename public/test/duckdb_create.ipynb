{
 "cells": [
  {
   "cell_type": "code",
   "execution_count": 1,
   "id": "b637b442-3873-4c23-9159-7a4f00b98e86",
   "metadata": {},
   "outputs": [
    {
     "data": {
      "application/vnd.jupyter.widget-view+json": {
       "model_id": "7a52c853f3d348a490288979f5947d6e",
       "version_major": 2,
       "version_minor": 0
      },
      "text/plain": [
       "FloatProgress(value=0.0, layout=Layout(width='auto'), style=ProgressStyle(bar_color='black'))"
      ]
     },
     "metadata": {},
     "output_type": "display_data"
    },
    {
     "data": {
      "application/vnd.jupyter.widget-view+json": {
       "model_id": "2607eeec41a24eb8afec4c73143d41e9",
       "version_major": 2,
       "version_minor": 0
      },
      "text/plain": [
       "FloatProgress(value=0.0, layout=Layout(width='auto'), style=ProgressStyle(bar_color='black'))"
      ]
     },
     "metadata": {},
     "output_type": "display_data"
    },
    {
     "name": "stdout",
     "output_type": "stream",
     "text": [
      "DuckDB database created at repos.duckdb\n"
     ]
    }
   ],
   "source": [
    "import duckdb\n",
    "import pandas as pd\n",
    "import json\n",
    "import os\n",
    "\n",
    "# Path to your JSON file\n",
    "json_path = '../../public/data/repo_metadata.json'  # Replace with your actual file path\n",
    "db_path = 'github_metadata.duckdb'      # Output DB file\n",
    "\n",
    "# Load the JSON data\n",
    "with open(json_path, 'r') as f:\n",
    "    data = json.load(f)\n",
    "\n",
    "# Ensure data is a list of repos\n",
    "if isinstance(data, dict):\n",
    "    data = [data]\n",
    "\n",
    "# Flatten top-level fields\n",
    "repos = []\n",
    "languages = []\n",
    "topics = []\n",
    "\n",
    "for repo in data:\n",
    "    repo_id = repo.get(\"nameWithOwner\")\n",
    "\n",
    "    # Flatten main repo info\n",
    "    repos.append({\n",
    "        \"nameWithOwner\": repo_id,\n",
    "        \"owner\": repo.get(\"owner\"),\n",
    "        \"name\": repo.get(\"name\"),\n",
    "        \"stars\": repo.get(\"stars\"),\n",
    "        \"forks\": repo.get(\"forks\"),\n",
    "        \"watchers\": repo.get(\"watchers\"),\n",
    "        \"isFork\": repo.get(\"isFork\"),\n",
    "        \"isArchived\": repo.get(\"isArchived\"),\n",
    "        \"languageCount\": repo.get(\"languageCount\"),\n",
    "        \"topicCount\": repo.get(\"topicCount\"),\n",
    "        \"diskUsageKb\": repo.get(\"diskUsageKb\"),\n",
    "        \"pullRequests\": repo.get(\"pullRequests\"),\n",
    "        \"issues\": repo.get(\"issues\"),\n",
    "        \"description\": repo.get(\"description\"),\n",
    "        \"primaryLanguage\": repo.get(\"primaryLanguage\"),\n",
    "        \"createdAt\": repo.get(\"createdAt\"),\n",
    "        \"pushedAt\": repo.get(\"pushedAt\"),\n",
    "        \"defaultBranchCommitCount\": repo.get(\"defaultBranchCommitCount\"),\n",
    "        \"license\": repo.get(\"license\"),\n",
    "        \"assignableUserCount\": repo.get(\"assignableUserCount\"),\n",
    "        \"codeOfConduct\": repo.get(\"codeOfConduct\"),\n",
    "        \"forkingAllowed\": repo.get(\"forkingAllowed\"),\n",
    "        \"parent\": repo.get(\"parent\")\n",
    "    })\n",
    "\n",
    "    for lang in repo.get(\"languages\", []):\n",
    "        languages.append({\n",
    "            \"repo\": repo_id,\n",
    "            \"language\": lang.get(\"name\"),\n",
    "            \"size\": lang.get(\"size\")\n",
    "        })\n",
    "\n",
    "    for topic in repo.get(\"topics\", []):\n",
    "        topics.append({\n",
    "            \"repo\": repo_id,\n",
    "            \"topic\": topic.get(\"name\"),\n",
    "            \"stars\": topic.get(\"stars\")\n",
    "        })\n",
    "\n",
    "# Convert to DataFrames\n",
    "df_repos = pd.DataFrame(repos)\n",
    "df_languages = pd.DataFrame(languages)\n",
    "df_topics = pd.DataFrame(topics)\n",
    "\n",
    "# Create DuckDB and insert tables\n",
    "con = duckdb.connect(db_path)\n",
    "con.execute(\"SET threads TO 4;\")\n",
    "\n",
    "con.register('df_repos', df_repos)\n",
    "con.execute(\"CREATE OR REPLACE TABLE repos AS SELECT * FROM df_repos;\")\n",
    "\n",
    "con.register('df_languages', df_languages)\n",
    "con.execute(\"CREATE OR REPLACE TABLE repo_languages AS SELECT * FROM df_languages;\")\n",
    "\n",
    "con.register('df_topics', df_topics)\n",
    "con.execute(\"CREATE OR REPLACE TABLE repo_topics AS SELECT * FROM df_topics;\")\n",
    "\n",
    "con.close()\n",
    "\n",
    "print(f\"DuckDB database created at {db_path}\")\n"
   ]
  },
  {
   "cell_type": "code",
   "execution_count": null,
   "id": "2442785a-d821-47ab-bf16-86ceab3af02b",
   "metadata": {},
   "outputs": [],
   "source": []
  }
 ],
 "metadata": {
  "kernelspec": {
   "display_name": "Python 3 (ipykernel)",
   "language": "python",
   "name": "python3"
  },
  "language_info": {
   "codemirror_mode": {
    "name": "ipython",
    "version": 3
   },
   "file_extension": ".py",
   "mimetype": "text/x-python",
   "name": "python",
   "nbconvert_exporter": "python",
   "pygments_lexer": "ipython3",
   "version": "3.10.13"
  }
 },
 "nbformat": 4,
 "nbformat_minor": 5
}

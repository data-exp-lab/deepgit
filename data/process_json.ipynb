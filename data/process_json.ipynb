{
 "cells": [
  {
   "cell_type": "code",
   "execution_count": 1,
   "id": "95b0d8b8-30dc-4e06-89f6-e1b54a8cf949",
   "metadata": {},
   "outputs": [],
   "source": [
    "import duckdb"
   ]
  },
  {
   "cell_type": "code",
   "execution_count": 2,
   "id": "18a83f10-cc92-43ef-a67b-c397a7593607",
   "metadata": {},
   "outputs": [],
   "source": [
    "conn = duckdb.connect()"
   ]
  },
  {
   "cell_type": "code",
   "execution_count": 3,
   "id": "a9dd110c-10c2-492b-ae39-be2e7f852196",
   "metadata": {},
   "outputs": [
    {
     "data": {
      "application/vnd.jupyter.widget-view+json": {
       "model_id": "917e6a25a0e8412a836e7f8cfbed02d9",
       "version_major": 2,
       "version_minor": 0
      },
      "text/plain": [
       "FloatProgress(value=0.0, layout=Layout(width='auto'), style=ProgressStyle(bar_color='black'))"
      ]
     },
     "metadata": {},
     "output_type": "display_data"
    },
    {
     "data": {
      "text/plain": [
       "<duckdb.duckdb.DuckDBPyConnection at 0x109717cb0>"
      ]
     },
     "execution_count": 3,
     "metadata": {},
     "output_type": "execute_result"
    }
   ],
   "source": [
    "conn.execute(\"CREATE TEMP TABLE repo AS SELECT * FROM read_json_auto('./repo_metadata.json');\")"
   ]
  },
  {
   "cell_type": "code",
   "execution_count": 4,
   "id": "d106373d-301b-4859-86f5-c09184bd5912",
   "metadata": {},
   "outputs": [
    {
     "data": {
      "application/vnd.jupyter.widget-view+json": {
       "model_id": "4db80851e9d043cb9b003fb7e8f37ad4",
       "version_major": 2,
       "version_minor": 0
      },
      "text/plain": [
       "FloatProgress(value=0.0, layout=Layout(width='auto'), style=ProgressStyle(bar_color='black'))"
      ]
     },
     "metadata": {},
     "output_type": "display_data"
    }
   ],
   "source": [
    "query = '''\n",
    "SELECT nameWithOwner, primaryLanguage, stars, forks, watchers, isFork, isArchived, topics, languages, license\n",
    "FROM repo\n",
    "'''\n",
    "\n",
    "df = conn.execute(query).fetchdf()"
   ]
  },
  {
   "cell_type": "code",
   "execution_count": 5,
   "id": "8ff788d8-329a-49b7-bfec-503782703c66",
   "metadata": {},
   "outputs": [],
   "source": [
    "raw_df = df.copy()"
   ]
  },
  {
   "cell_type": "code",
   "execution_count": 6,
   "id": "f47efd5b-70be-4f6a-bd23-3b468ae225d3",
   "metadata": {},
   "outputs": [
    {
     "name": "stdout",
     "output_type": "stream",
     "text": [
      "                                             nameWithOwner primaryLanguage  \\\n",
      "0                                freeCodeCamp/freeCodeCamp      TypeScript   \n",
      "1                   EbookFoundation/free-programming-books            HTML   \n",
      "2                                     sindresorhus/awesome            None   \n",
      "3                         codecrafters-io/build-your-own-x        Markdown   \n",
      "4                                  public-apis/public-apis          Python   \n",
      "...                                                    ...             ...   \n",
      "3985963                                   51deep/sucaiwang            Java   \n",
      "3985964  51deep/SupermarketMembershipPointsManagementSy...            Java   \n",
      "3985965                          51deep/TeacherClassSystem            Java   \n",
      "3985966       51deep/TujiaScenicCulturalManagementPlatform            Java   \n",
      "3985967              51deep/OnlineJapaneseTrainingPlatform            Java   \n",
      "\n",
      "          stars  forks  watchers  isFork  isArchived  \\\n",
      "0        408888  38677      8555   False       False   \n",
      "1        347754  62564      9806   False       False   \n",
      "2        342017  28283      7801   False       False   \n",
      "3        325697  30162      5576   False       False   \n",
      "4        324345  34406      4232   False       False   \n",
      "...         ...    ...       ...     ...         ...   \n",
      "3985963      20      0         1   False       False   \n",
      "3985964      20      0         1   False       False   \n",
      "3985965      20      0         1   False       False   \n",
      "3985966      20      0         1   False       False   \n",
      "3985967      20      0         1   False       False   \n",
      "\n",
      "                                                    topics  \\\n",
      "0        [learn-to-code, nonprofits, programming, nodej...   \n",
      "1        [education, books, list, resource, hacktoberfest]   \n",
      "2        [awesome, awesome-list, unicorns, lists, resou...   \n",
      "3        [programming, tutorials, tutorial-code, tutori...   \n",
      "4        [api, public-apis, free, apis, list, developme...   \n",
      "...                                                    ...   \n",
      "3985963                                                 []   \n",
      "3985964                                                 []   \n",
      "3985965                                                 []   \n",
      "3985966                                                 []   \n",
      "3985967                                                 []   \n",
      "\n",
      "                                                 languages  \\\n",
      "0        [TypeScript, JavaScript, CSS, Dockerfile, EJS,...   \n",
      "1                                                   [HTML]   \n",
      "2                                                       []   \n",
      "3                                               [Markdown]   \n",
      "4                                          [Python, Shell]   \n",
      "...                                                    ...   \n",
      "3985963                                             [Java]   \n",
      "3985964                                             [Java]   \n",
      "3985965                                             [Java]   \n",
      "3985966                                             [Java]   \n",
      "3985967                                             [Java]   \n",
      "\n",
      "                                                license  \n",
      "0               BSD 3-Clause \"New\" or \"Revised\" License  \n",
      "1        Creative Commons Attribution 4.0 International  \n",
      "2                  Creative Commons Zero v1.0 Universal  \n",
      "3                                                  None  \n",
      "4                                           MIT License  \n",
      "...                                                 ...  \n",
      "3985963                                            None  \n",
      "3985964                                            None  \n",
      "3985965                                            None  \n",
      "3985966                                            None  \n",
      "3985967                                            None  \n",
      "\n",
      "[3985968 rows x 10 columns]\n"
     ]
    }
   ],
   "source": [
    "def extract_names(item_ls):\n",
    "    temp_items = []\n",
    "    if item_ls is not None and len(item_ls) > 0:\n",
    "        for item in item_ls:\n",
    "            temp_items.append(item[\"name\"])\n",
    "    return temp_items\n",
    "\n",
    "# Apply the function to the topics column\n",
    "df['topics'] = df['topics'].apply(extract_names)\n",
    "df['languages'] = df['languages'].apply(extract_names)\n",
    "\n",
    "# print(df)"
   ]
  },
  {
   "cell_type": "code",
   "execution_count": 7,
   "id": "b215fae8-a5f9-436e-84a8-930e16cf427f",
   "metadata": {},
   "outputs": [
    {
     "data": {
      "application/vnd.jupyter.widget-view+json": {
       "model_id": "06b3723001b5465ca55c7f4fc4b81534",
       "version_major": 2,
       "version_minor": 0
      },
      "text/plain": [
       "FloatProgress(value=0.0, layout=Layout(width='auto'), style=ProgressStyle(bar_color='black'))"
      ]
     },
     "metadata": {},
     "output_type": "display_data"
    },
    {
     "name": "stdout",
     "output_type": "stream",
     "text": [
      "                          nameWithOwner   primaryLanguage   stars  forks  \\\n",
      "0          Significant-Gravitas/AutoGPT            Python  170526  44831   \n",
      "1              huggingface/transformers            Python  137641  27570   \n",
      "2             f/awesome-chatgpt-prompts              HTML  117461  15898   \n",
      "3                         ollama/ollama                Go  107827   8639   \n",
      "4               ChatGPTNextWeb/NextChat        TypeScript   78626  60053   \n",
      "...                                 ...               ...     ...    ...   \n",
      "17237  sloppylopez/moneypenny-ai-prompt            Kotlin       5      0   \n",
      "17238                MChatzakis/ChatMGL  Jupyter Notebook       5      0   \n",
      "17239           ibizabroker/gpt-pdf-bot            Python       5      3   \n",
      "17240      hivaze/friendly_chatbot_task  Jupyter Notebook       5      1   \n",
      "17241             Varsha-1605/SocioSell            Python      20     23   \n",
      "\n",
      "       watchers  isFork  isArchived  \\\n",
      "0          1548   False       False   \n",
      "1          1128   False       False   \n",
      "2          1436   False       False   \n",
      "3           620   False       False   \n",
      "4           420   False       False   \n",
      "...         ...     ...         ...   \n",
      "17237         2   False       False   \n",
      "17238         1   False       False   \n",
      "17239         1   False       False   \n",
      "17240         1   False       False   \n",
      "17241         1   False       False   \n",
      "\n",
      "                                                  topics  \\\n",
      "0      [ai, gpt-4, openai, python, artificial-intelli...   \n",
      "1      [nlp, natural-language-processing, pytorch, la...   \n",
      "2        [chatbot, chatgpt, chatgpt-api, language, bots]   \n",
      "3      [llama, llm, llama2, llms, go, golang, ollama,...   \n",
      "4      [chatgpt, nextjs, vercel, webui, cross-platfor...   \n",
      "...                                                  ...   \n",
      "17237  [ai, idea-plugin, kotlin, refactoring, prompt-...   \n",
      "17238  [bert, gpt-2, llms, nlp, ppo, reinforcement-le...   \n",
      "17239  [chromadb, gpt, langchain, openai, python, pin...   \n",
      "17240              [aiogram, dialogue-systems, llm, nlp]   \n",
      "17241  [swoc2025, css, fastapi, generative-ai, html5,...   \n",
      "\n",
      "                                               languages  \\\n",
      "0      [Python, TypeScript, Dart, C++, CMake, JavaScr...   \n",
      "1      [Python, Cuda, Dockerfile, Shell, C++, C, Make...   \n",
      "2                                    [HTML, Shell, Ruby]   \n",
      "3      [Go, C, Shell, TypeScript, Makefile, Dockerfil...   \n",
      "4      [TypeScript, SCSS, JavaScript, Rust, Shell, Do...   \n",
      "...                                                  ...   \n",
      "17237                               [Kotlin, HTML, Java]   \n",
      "17238                  [Jupyter Notebook, Python, Shell]   \n",
      "17239                                           [Python]   \n",
      "17240             [Jupyter Notebook, Python, Dockerfile]   \n",
      "17241                                [Python, HTML, CSS]   \n",
      "\n",
      "                                    license  \n",
      "0                                     Other  \n",
      "1                        Apache License 2.0  \n",
      "2      Creative Commons Zero v1.0 Universal  \n",
      "3                               MIT License  \n",
      "4                               MIT License  \n",
      "...                                     ...  \n",
      "17237                    Apache License 2.0  \n",
      "17238                           MIT License  \n",
      "17239                           MIT License  \n",
      "17240                                  None  \n",
      "17241                           MIT License  \n",
      "\n",
      "[17242 rows x 10 columns]\n"
     ]
    }
   ],
   "source": [
    "# List of topics to filter by\n",
    "topics_list = [\n",
    "    \"large-language-models\",\n",
    "    \"large-language-model\",\n",
    "    \"llm\",\n",
    "    \"llms\",\n",
    "    \"foundation-model\",\n",
    "    \"foundation-models\",\n",
    "    \"generative-ai\",\n",
    "    \"language-model\",\n",
    "    \"llm-inference\",\n",
    "    \"multimodal-large-language-models\",\n",
    "    'gpt',\n",
    "    'llama',\n",
    "    'llama2',\n",
    "    'openai',\n",
    "    'chatgpt',\n",
    "    'generative-ai',\n",
    "    'multimodal',\n",
    "    'gpt-4',\n",
    "    'retrieval-augmented-generation',\n",
    "    'chain-of-thought',\n",
    "    'prompt-engineering',\n",
    "    'langchain',\n",
    "    'llm-agent'\n",
    "]\n",
    "\n",
    "# Query using DuckDB\n",
    "query = f\"\"\"\n",
    "SELECT * FROM df\n",
    "WHERE list_has_any(topics, {topics_list})\n",
    "\"\"\"\n",
    "\n",
    "filtered_df = duckdb.query(query).to_df()\n",
    "\n",
    "print(filtered_df)"
   ]
  },
  {
   "cell_type": "code",
   "execution_count": 9,
   "id": "7bd73149-ee37-468f-beff-c71640388ae9",
   "metadata": {},
   "outputs": [],
   "source": [
    "filtered_df.to_csv(\"../temp/llm_kb_github.csv\")"
   ]
  },
  {
   "cell_type": "code",
   "execution_count": 8,
   "id": "58e0f397-a915-4779-b00d-636d49493bcc",
   "metadata": {},
   "outputs": [
    {
     "data": {
      "text/html": [
       "<div>\n",
       "<style scoped>\n",
       "    .dataframe tbody tr th:only-of-type {\n",
       "        vertical-align: middle;\n",
       "    }\n",
       "\n",
       "    .dataframe tbody tr th {\n",
       "        vertical-align: top;\n",
       "    }\n",
       "\n",
       "    .dataframe thead th {\n",
       "        text-align: right;\n",
       "    }\n",
       "</style>\n",
       "<table border=\"1\" class=\"dataframe\">\n",
       "  <thead>\n",
       "    <tr style=\"text-align: right;\">\n",
       "      <th></th>\n",
       "      <th>nameWithOwner</th>\n",
       "      <th>primaryLanguage</th>\n",
       "      <th>stars</th>\n",
       "      <th>forks</th>\n",
       "      <th>watchers</th>\n",
       "      <th>isFork</th>\n",
       "      <th>isArchived</th>\n",
       "      <th>topics</th>\n",
       "      <th>languages</th>\n",
       "      <th>license</th>\n",
       "    </tr>\n",
       "  </thead>\n",
       "  <tbody>\n",
       "    <tr>\n",
       "      <th>0</th>\n",
       "      <td>Significant-Gravitas/AutoGPT</td>\n",
       "      <td>Python</td>\n",
       "      <td>170526</td>\n",
       "      <td>44831</td>\n",
       "      <td>1548</td>\n",
       "      <td>False</td>\n",
       "      <td>False</td>\n",
       "      <td>[ai, gpt-4, openai, python, artificial-intelli...</td>\n",
       "      <td>[Python, TypeScript, Dart, C++, CMake, JavaScr...</td>\n",
       "      <td>Other</td>\n",
       "    </tr>\n",
       "    <tr>\n",
       "      <th>1</th>\n",
       "      <td>huggingface/transformers</td>\n",
       "      <td>Python</td>\n",
       "      <td>137641</td>\n",
       "      <td>27570</td>\n",
       "      <td>1128</td>\n",
       "      <td>False</td>\n",
       "      <td>False</td>\n",
       "      <td>[nlp, natural-language-processing, pytorch, la...</td>\n",
       "      <td>[Python, Cuda, Dockerfile, Shell, C++, C, Make...</td>\n",
       "      <td>Apache License 2.0</td>\n",
       "    </tr>\n",
       "    <tr>\n",
       "      <th>2</th>\n",
       "      <td>f/awesome-chatgpt-prompts</td>\n",
       "      <td>HTML</td>\n",
       "      <td>117461</td>\n",
       "      <td>15898</td>\n",
       "      <td>1436</td>\n",
       "      <td>False</td>\n",
       "      <td>False</td>\n",
       "      <td>[chatbot, chatgpt, chatgpt-api, language, bots]</td>\n",
       "      <td>[HTML, Shell, Ruby]</td>\n",
       "      <td>Creative Commons Zero v1.0 Universal</td>\n",
       "    </tr>\n",
       "    <tr>\n",
       "      <th>3</th>\n",
       "      <td>ollama/ollama</td>\n",
       "      <td>Go</td>\n",
       "      <td>107827</td>\n",
       "      <td>8639</td>\n",
       "      <td>620</td>\n",
       "      <td>False</td>\n",
       "      <td>False</td>\n",
       "      <td>[llama, llm, llama2, llms, go, golang, ollama,...</td>\n",
       "      <td>[Go, C, Shell, TypeScript, Makefile, Dockerfil...</td>\n",
       "      <td>MIT License</td>\n",
       "    </tr>\n",
       "    <tr>\n",
       "      <th>4</th>\n",
       "      <td>ChatGPTNextWeb/NextChat</td>\n",
       "      <td>TypeScript</td>\n",
       "      <td>78626</td>\n",
       "      <td>60053</td>\n",
       "      <td>420</td>\n",
       "      <td>False</td>\n",
       "      <td>False</td>\n",
       "      <td>[chatgpt, nextjs, vercel, webui, cross-platfor...</td>\n",
       "      <td>[TypeScript, SCSS, JavaScript, Rust, Shell, Do...</td>\n",
       "      <td>MIT License</td>\n",
       "    </tr>\n",
       "  </tbody>\n",
       "</table>\n",
       "</div>"
      ],
      "text/plain": [
       "                  nameWithOwner primaryLanguage   stars  forks  watchers  \\\n",
       "0  Significant-Gravitas/AutoGPT          Python  170526  44831      1548   \n",
       "1      huggingface/transformers          Python  137641  27570      1128   \n",
       "2     f/awesome-chatgpt-prompts            HTML  117461  15898      1436   \n",
       "3                 ollama/ollama              Go  107827   8639       620   \n",
       "4       ChatGPTNextWeb/NextChat      TypeScript   78626  60053       420   \n",
       "\n",
       "   isFork  isArchived                                             topics  \\\n",
       "0   False       False  [ai, gpt-4, openai, python, artificial-intelli...   \n",
       "1   False       False  [nlp, natural-language-processing, pytorch, la...   \n",
       "2   False       False    [chatbot, chatgpt, chatgpt-api, language, bots]   \n",
       "3   False       False  [llama, llm, llama2, llms, go, golang, ollama,...   \n",
       "4   False       False  [chatgpt, nextjs, vercel, webui, cross-platfor...   \n",
       "\n",
       "                                           languages  \\\n",
       "0  [Python, TypeScript, Dart, C++, CMake, JavaScr...   \n",
       "1  [Python, Cuda, Dockerfile, Shell, C++, C, Make...   \n",
       "2                                [HTML, Shell, Ruby]   \n",
       "3  [Go, C, Shell, TypeScript, Makefile, Dockerfil...   \n",
       "4  [TypeScript, SCSS, JavaScript, Rust, Shell, Do...   \n",
       "\n",
       "                                license  \n",
       "0                                 Other  \n",
       "1                    Apache License 2.0  \n",
       "2  Creative Commons Zero v1.0 Universal  \n",
       "3                           MIT License  \n",
       "4                           MIT License  "
      ]
     },
     "execution_count": 8,
     "metadata": {},
     "output_type": "execute_result"
    }
   ],
   "source": [
    "filtered_df.head(5)"
   ]
  },
  {
   "cell_type": "code",
   "execution_count": null,
   "id": "d3c33387-ef37-47e4-9d5f-b3e89b16d2d4",
   "metadata": {},
   "outputs": [],
   "source": []
  }
 ],
 "metadata": {
  "kernelspec": {
   "display_name": "Python 3 (ipykernel)",
   "language": "python",
   "name": "python3"
  },
  "language_info": {
   "codemirror_mode": {
    "name": "ipython",
    "version": 3
   },
   "file_extension": ".py",
   "mimetype": "text/x-python",
   "name": "python",
   "nbconvert_exporter": "python",
   "pygments_lexer": "ipython3",
   "version": "3.13.1"
  }
 },
 "nbformat": 4,
 "nbformat_minor": 5
}

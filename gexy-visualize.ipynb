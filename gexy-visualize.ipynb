{
 "cells": [
  {
   "cell_type": "code",
   "execution_count": 2,
   "id": "66c1d56e-0efd-4c40-b97c-ba174019fc81",
   "metadata": {},
   "outputs": [
    {
     "data": {
      "application/vnd.jupyter.widget-view+json": {
       "model_id": "2e839841e2f2496eb9d128cb293ad1a9",
       "version_major": 2,
       "version_minor": 0
      },
      "text/plain": [
       "Sigma(nx.Graph with 485 nodes and 125 edges)"
      ]
     },
     "execution_count": 2,
     "metadata": {},
     "output_type": "execute_result"
    }
   ],
   "source": [
    "import networkx as nx\n",
    "from ipysigma import Sigma\n",
    "\n",
    "# Importing a gexf graph\n",
    "g = nx.read_gexf('temp/logic_repos_with_clusters.gexf')\n",
    "\n",
    "# Displaying the graph with a size mapped on degree and\n",
    "# a color mapped on a categorical attribute of the nodes\n",
    "Sigma(g, node_size=g.degree, node_color='category')"
   ]
  },
  {
   "cell_type": "code",
   "execution_count": null,
   "id": "c128676f-6275-4031-94cf-3327c00e4016",
   "metadata": {},
   "outputs": [],
   "source": []
  }
 ],
 "metadata": {
  "kernelspec": {
   "display_name": "Python 3 (ipykernel)",
   "language": "python",
   "name": "python3"
  },
  "language_info": {
   "codemirror_mode": {
    "name": "ipython",
    "version": 3
   },
   "file_extension": ".py",
   "mimetype": "text/x-python",
   "name": "python",
   "nbconvert_exporter": "python",
   "pygments_lexer": "ipython3",
   "version": "3.10.16"
  }
 },
 "nbformat": 4,
 "nbformat_minor": 5
}

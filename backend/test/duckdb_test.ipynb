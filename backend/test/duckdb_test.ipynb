{
 "cells": [
  {
   "cell_type": "code",
   "execution_count": 14,
   "id": "9cef20d5-c51f-4597-afd9-456c7c26f5f4",
   "metadata": {},
   "outputs": [
    {
     "data": {
      "application/vnd.jupyter.widget-view+json": {
       "model_id": "13d1ff9f76744ae397b1c5ca7e8c6498",
       "version_major": 2,
       "version_minor": 0
      },
      "text/plain": [
       "FloatProgress(value=0.0, layout=Layout(width='auto'), style=ProgressStyle(bar_color='black'))"
      ]
     },
     "metadata": {},
     "output_type": "display_data"
    },
    {
     "data": {
      "application/vnd.jupyter.widget-view+json": {
       "model_id": "a4efdf3931044bdbb61a128cd1496dd5",
       "version_major": 2,
       "version_minor": 0
      },
      "text/plain": [
       "FloatProgress(value=0.0, layout=Layout(width='auto'), style=ProgressStyle(bar_color='black'))"
      ]
     },
     "metadata": {},
     "output_type": "display_data"
    }
   ],
   "source": [
    "import duckdb\n",
    "\n",
    "search_term = \"logic-programming\"\n",
    "\n",
    "# Step 1: Load JSON into a DuckDB temp table with parallel processing enabled\n",
    "con = duckdb.connect(database=':memory:')\n",
    "con.execute(\"SET threads TO 10;\")  # Adjust number based on your CPU cores\n",
    "con.execute(\"\"\"\n",
    "    CREATE TEMP TABLE repo AS \n",
    "    SELECT * FROM read_json_auto('../public/data/repo_metadata.json');\n",
    "\"\"\")\n",
    "\n",
    "# Step 2: Get nameWithOwner and topics into a pandas DataFrame\n",
    "query = \"SELECT nameWithOwner, topics FROM repo\"\n",
    "df = con.execute(query).fetchdf()\n",
    "\n",
    "# Step 3: Normalize topics into list of names\n",
    "def extract_names(item_ls):\n",
    "    if item_ls is not None and len(item_ls) > 0:\n",
    "        return [item[\"name\"] for item in item_ls if \"name\" in item]\n",
    "    return []\n",
    "\n",
    "df[\"topics\"] = df[\"topics\"].apply(extract_names)\n",
    "\n",
    "# Step 4: Filter repos based on search term in topics\n",
    "filtered_df = df[df[\"topics\"].apply(lambda x: search_term in [t.lower() for t in x])]\n",
    "\n",
    "# Step 5: Count all co-occurring topics\n",
    "all_topics = [topic for topics in filtered_df[\"topics\"] for topic in topics]\n",
    "topic_counts = Counter(all_topics)\n",
    "\n",
    "# Remove the searched topic itself\n",
    "topic_counts.pop(search_term, None)\n",
    "\n",
    "# Step 6: Convert to list of dicts and sort, only including topics with count > 1\n",
    "topics = [{\"name\": name, \"count\": count} for name, count in topic_counts.items() if count > 2]\n",
    "topics = sorted(topics, key=lambda x: x[\"count\"], reverse=True)"
   ]
  }
 ],
 "metadata": {
  "kernelspec": {
   "display_name": "Python 3 (ipykernel)",
   "language": "python",
   "name": "python3"
  },
  "language_info": {
   "codemirror_mode": {
    "name": "ipython",
    "version": 3
   },
   "file_extension": ".py",
   "mimetype": "text/x-python",
   "name": "python",
   "nbconvert_exporter": "python",
   "pygments_lexer": "ipython3",
   "version": "3.10.13"
  }
 },
 "nbformat": 4,
 "nbformat_minor": 5
}

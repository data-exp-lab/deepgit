{
 "cells": [
  {
   "cell_type": "code",
   "execution_count": 5,
   "id": "94cfb9fd-21b3-42f6-9aa8-25fe3d606b9c",
   "metadata": {},
   "outputs": [
    {
     "name": "stdout",
     "output_type": "stream",
     "text": [
      "GEXF file created: temp/repos.gexf\n"
     ]
    }
   ],
   "source": [
    "import pandas as pd\n",
    "import networkx as nx\n",
    "import ast\n",
    "from itertools import combinations\n",
    "\n",
    "similar_topics = [\n",
    "    \"flow-based-programming\",\n",
    "    \"visual-programming\",\n",
    "    \"visual-programming-editor\",\n",
    "    \"visual-programming-language\",\n",
    "    \"dataflow-programming\",\n",
    "    \"blockly\",\n",
    "    \"graph-editor\",\n",
    "    \"node-editor\"\n",
    "]\n",
    "\n",
    "df_repos = pd.read_csv(\"temp/tag_repos.csv\")\n",
    "\n",
    "# Create an empty undirected graph.\n",
    "G = nx.Graph()\n",
    "\n",
    "# Add nodes: Each repo becomes a node, and its topics are stored as a node attribute.\n",
    "for idx, row in df_repos.iterrows():\n",
    "    repo = row['repo_name']\n",
    "    topics = row['topics']\n",
    "    # Ensure topics are properly parsed from string representation of lists\n",
    "    if isinstance(topics, str) and topics.startswith(\"[\") and topics.endswith(\"]\"):\n",
    "        topics = ast.literal_eval(topics)  # Convert string list to actual list\n",
    "    elif isinstance(topics, str):\n",
    "        topics = [topics]  # Convert single topic string to list\n",
    "    \n",
    "    topics_cleaned = [t.strip().lower() for t in topics]  # Clean topics\n",
    "    topics_str = ','.join(topics_cleaned)\n",
    "    G.add_node(repo, topics=topics_str)\n",
    "\n",
    "# Add edges: Check for shared tags between repos and add an edge with weight equal to shared topics count in similar_topics.\n",
    "repos = list(G.nodes)\n",
    "for repo1, repo2 in combinations(repos, 2):\n",
    "    topics1 = set(G.nodes[repo1]['topics'].split(','))\n",
    "    topics2 = set(G.nodes[repo2]['topics'].split(','))\n",
    "    shared_topics = topics1 & topics2  # Ensure lowercase comparison\n",
    "    relevant_shared_topics = shared_topics & set(similar_topics)\n",
    "    if len(relevant_shared_topics) >= 2:\n",
    "        G.add_edge(repo1, repo2, weight=len(relevant_shared_topics))\n",
    "\n",
    "# Write the graph to a GEXF file.\n",
    "output_file = \"temp/repos.gexf\"\n",
    "nx.write_gexf(G, output_file)\n",
    "print(f\"GEXF file created: {output_file}\")"
   ]
  },
  {
   "cell_type": "code",
   "execution_count": null,
   "id": "234440b7-24fd-467a-88ae-696c84792430",
   "metadata": {},
   "outputs": [],
   "source": [
    "import pandas as pd\n",
    "import networkx as nx\n",
    "import ast\n",
    "from itertools import combinations\n",
    "\n",
    "df_repos = pd.read_csv(\"temp/tag_repos.csv\")\n",
    "\n",
    "# Create an empty undirected graph.\n",
    "G = nx.Graph()\n",
    "\n",
    "# Extract unique topics and add them as nodes.\n",
    "unique_topics = set()\n",
    "for idx, row in df_repos.iterrows():\n",
    "    topics = row['topics']\n",
    "    # Ensure topics are properly parsed from string representation of lists\n",
    "    if isinstance(topics, str) and topics.startswith(\"[\") and topics.endswith(\"]\"):\n",
    "        topics = ast.literal_eval(topics)  # Convert string list to actual list\n",
    "    elif isinstance(topics, str):\n",
    "        topics = [topics]  # Convert single topic string to list\n",
    "    \n",
    "    topics_cleaned = {t.strip().lower() for t in topics}  # Use set for unique topics\n",
    "    unique_topics.update(topics_cleaned)\n",
    "    \n",
    "    # Add edges between topics appearing in the same repository\n",
    "    for topic1, topic2 in combinations(topics_cleaned, 2):\n",
    "        G.add_edge(topic1, topic2)\n",
    "\n",
    "# Add unique topics as nodes\n",
    "G.add_nodes_from(unique_topics)\n",
    "\n",
    "# Write the graph to a GEXF file.\n",
    "output_file = \"temp/topics.gexf\"\n",
    "nx.write_gexf(G, output_file)\n",
    "print(f\"GEXF file created: {output_file}\")"
   ]
  }
 ],
 "metadata": {
  "kernelspec": {
   "display_name": "Python 3 (ipykernel)",
   "language": "python",
   "name": "python3"
  },
  "language_info": {
   "codemirror_mode": {
    "name": "ipython",
    "version": 3
   },
   "file_extension": ".py",
   "mimetype": "text/x-python",
   "name": "python",
   "nbconvert_exporter": "python",
   "pygments_lexer": "ipython3",
   "version": "3.13.1"
  }
 },
 "nbformat": 4,
 "nbformat_minor": 5
}

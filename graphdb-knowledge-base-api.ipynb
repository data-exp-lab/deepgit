{
 "cells": [
  {
   "cell_type": "markdown",
   "id": "400418bc-83cd-42c1-98de-c783c6787ad0",
   "metadata": {},
   "source": [
    "# DeepGit: Building Edges one Tag"
   ]
  },
  {
   "cell_type": "markdown",
   "id": "915a1526-c70a-43ef-933e-898e3035f978",
   "metadata": {},
   "source": [
    "## Preparation\n",
    "### Package Import"
   ]
  },
  {
   "cell_type": "code",
   "execution_count": 1,
   "id": "d7df1303-580c-4488-a0b3-f0c5bad1b654",
   "metadata": {},
   "outputs": [],
   "source": [
    "import requests\n",
    "import pandas as pd\n",
    "from datetime import datetime, timezone\n",
    "import os\n",
    "from dotenv import load_dotenv\n",
    "from sentence_transformers import SentenceTransformer\n",
    "from sklearn.metrics.pairwise import cosine_similarity\n",
    "import numpy as np\n",
    "from collections import Counter"
   ]
  },
  {
   "cell_type": "code",
   "execution_count": 2,
   "id": "d63a5cb5-187e-46f6-8c3f-945d9598ac11",
   "metadata": {},
   "outputs": [
    {
     "data": {
      "text/plain": [
       "True"
      ]
     },
     "execution_count": 2,
     "metadata": {},
     "output_type": "execute_result"
    }
   ],
   "source": [
    "load_dotenv()"
   ]
  },
  {
   "cell_type": "markdown",
   "id": "d2d77c45-34e4-4096-83ce-c8d421215693",
   "metadata": {},
   "source": [
    "### GitHub Authenticate Setup"
   ]
  },
  {
   "cell_type": "markdown",
   "id": "1987c520-eb1f-44dd-92fe-7bb4b70ef475",
   "metadata": {},
   "source": [
    "Create a `.env` file in the root directory and add the line `GITHUB_TOKEN = \"your_token\"`."
   ]
  },
  {
   "cell_type": "code",
   "execution_count": 3,
   "id": "c133bcc4-71ce-44c6-9558-6a3f07990203",
   "metadata": {},
   "outputs": [],
   "source": [
    "def authenticate_github(token):\n",
    "    \"\"\"\n",
    "    Returns headers required for GitHub API requests.\n",
    "    The Accept header includes the preview for topics.\n",
    "    \"\"\"\n",
    "    return {\n",
    "        'Authorization': f'token {token}',\n",
    "        'Accept': 'application/vnd.github.mercy-preview+json'\n",
    "    }\n",
    "token = os.getenv(\"GITHUB_TOKEN\")\n",
    "headers = authenticate_github(token)"
   ]
  },
  {
   "cell_type": "markdown",
   "id": "84bbcaf7-a703-4a35-89a7-5dace41a732e",
   "metadata": {},
   "source": [
    "## Function Definition"
   ]
  },
  {
   "cell_type": "markdown",
   "id": "f6d8f7a4-dee5-4114-be8a-1f5c0aac753e",
   "metadata": {},
   "source": [
    "### GitHub Extraction"
   ]
  },
  {
   "cell_type": "code",
   "execution_count": 4,
   "id": "ca789b34-3928-4e7e-a962-eb751c905cf2",
   "metadata": {},
   "outputs": [],
   "source": [
    "def search_github_repos_by_topic(tag, headers):\n",
    "    \"\"\"\n",
    "    Searches GitHub repositories that have the specified topic (tag) and over 100 stars.\n",
    "    Handles pagination and returns a list of dictionaries containing only the repository name and repo id.\n",
    "    \"\"\"\n",
    "    repos = []\n",
    "    page = 1\n",
    "    per_page = 100\n",
    "    query = f\"topic:{tag} stars:>5\"\n",
    "    \n",
    "    while True:\n",
    "        url = (\n",
    "            f\"https://api.github.com/search/repositories?q={query}\"\n",
    "            f\"&sort=stars&order=desc&per_page={per_page}&page={page}\"\n",
    "        )\n",
    "        response = requests.get(url, headers=headers)\n",
    "        if response.status_code != 200:\n",
    "            print(f\"Error fetching repositories for tag '{tag}': {response.status_code}\")\n",
    "            break\n",
    "\n",
    "        data = response.json()\n",
    "        items = data.get('items', [])\n",
    "        if not items:\n",
    "            break\n",
    "\n",
    "        for item in items:\n",
    "            repos.append(\n",
    "                 item.get(\"full_name\")\n",
    "            )\n",
    "\n",
    "        # Break if fewer than 'per_page' items were returned (i.e. last page)\n",
    "        if len(items) < per_page:\n",
    "            break\n",
    "\n",
    "        page += 1\n",
    "\n",
    "    return repos\n",
    "\n",
    "def get_repo_topics(full_name, headers):\n",
    "    \"\"\"\n",
    "    Fetches the topics (tags) of a repository given its full name.\n",
    "    \"\"\"\n",
    "    url = f\"https://api.github.com/repos/{full_name}/topics\"\n",
    "    response = requests.get(url, headers=headers)\n",
    "    if response.status_code == 200:\n",
    "        return response.json().get('names', [])\n",
    "    return []"
   ]
  },
  {
   "cell_type": "markdown",
   "id": "c160a51a-f755-466b-9444-ffd54601babb",
   "metadata": {},
   "source": [
    "### Tag Similarity"
   ]
  },
  {
   "cell_type": "code",
   "execution_count": 5,
   "id": "353d5e38-1e3f-44c8-86b4-388e29addd0b",
   "metadata": {},
   "outputs": [],
   "source": [
    "def compute_topic_similarities(model_name: str, given_topic: str, topic_pool: list, threshold: float = 0.8):\n",
    "    \"\"\"\n",
    "    Compute cosine similarity between a given topic and a pool of topics, filtering by a threshold.\n",
    "\n",
    "    Args:\n",
    "        model_name (str): Name of the SentenceTransformer model (e.g., 'all-MiniLM-L6-v2').\n",
    "        given_topic (str): The topic to compare against the pool.\n",
    "        topic_pool (list): List of topics to compare.\n",
    "        threshold (float): Minimum similarity score to be included in the results (default: 0.8).\n",
    "\n",
    "    Returns:\n",
    "        list: Sorted list of (topic, similarity) tuples in descending order of similarity.\n",
    "    \"\"\"\n",
    "    # Load model\n",
    "    model = SentenceTransformer(model_name)\n",
    "    \n",
    "    # Encode the given topic and the pool of topics\n",
    "    given_embedding = model.encode([given_topic])\n",
    "    pool_embeddings = model.encode(topic_pool)\n",
    "    \n",
    "    # Compute cosine similarities\n",
    "    similarities = cosine_similarity(given_embedding, pool_embeddings)[0]\n",
    "    \n",
    "    # Pair topics with their similarity scores\n",
    "    topic_similarity_pairs = [topic for topic, sim in zip(topic_pool, similarities) if sim >= threshold]\n",
    "    \n",
    "    # Sort topics by similarity (higher is better)\n",
    "    topic_similarity_pairs.sort(key=lambda x: x[1], reverse=True)\n",
    "\n",
    "    return topic_similarity_pairs"
   ]
  },
  {
   "cell_type": "markdown",
   "id": "5caa850a-3fc7-4bf6-bc0f-820c250fe774",
   "metadata": {},
   "source": [
    "### Temp Store"
   ]
  },
  {
   "cell_type": "code",
   "execution_count": 6,
   "id": "57824ef5-558a-4ad8-b526-5603b93db85b",
   "metadata": {},
   "outputs": [],
   "source": [
    "def write_list_to_file(data_list, file_address):\n",
    "    \"\"\"\n",
    "    Writes each item of the given list to a new line in a text file.\n",
    "\n",
    "    :param data_list: List of elements to write to the file.\n",
    "    :param file_address: Path to the file where the list should be saved.\n",
    "    \"\"\"\n",
    "    try:\n",
    "        with open(file_address, 'w', encoding='utf-8') as file:\n",
    "            for item in data_list:\n",
    "                file.write(f\"{item}\\n\")\n",
    "        print(f\"List successfully written to {file_address}\")\n",
    "    except Exception as e:\n",
    "        print(f\"Error writing to file: {e}\")"
   ]
  },
  {
   "cell_type": "markdown",
   "id": "bb7515eb-4349-45c9-a981-0855c65f790b",
   "metadata": {},
   "source": [
    "## Demonstration"
   ]
  },
  {
   "cell_type": "markdown",
   "id": "4e844143-91e1-4d72-9bbe-43e2bd71011b",
   "metadata": {},
   "source": [
    "### Input Tag(Topic)"
   ]
  },
  {
   "cell_type": "markdown",
   "id": "ceb42a8b-7215-4253-9355-7245636f7a03",
   "metadata": {},
   "source": [
    "Suppose we have a topic `visual programming`"
   ]
  },
  {
   "cell_type": "code",
   "execution_count": 7,
   "id": "97151995-3904-4f13-b70e-6ab07f92d9f2",
   "metadata": {},
   "outputs": [],
   "source": [
    "input_topic = \"graph-database\""
   ]
  },
  {
   "cell_type": "markdown",
   "id": "ea0e7a95-28af-4f11-867e-74789eb59bfc",
   "metadata": {},
   "source": [
    "### Git the Initial Repos"
   ]
  },
  {
   "cell_type": "markdown",
   "id": "69ae9deb-5269-4e55-8143-cad2435e22b2",
   "metadata": {},
   "source": [
    "**Note**: for demonstration Purpose, we only extract repos have more than 10 stars"
   ]
  },
  {
   "cell_type": "code",
   "execution_count": 8,
   "id": "ddb99b59-31b8-4c52-b0fc-d6a7c6e55efd",
   "metadata": {},
   "outputs": [],
   "source": [
    "repos_with_input_topic = search_github_repos_by_topic(input_topic, headers)"
   ]
  },
  {
   "cell_type": "code",
   "execution_count": 9,
   "id": "65f62ffc-0bbe-455a-bee6-7f037a614fe0",
   "metadata": {},
   "outputs": [
    {
     "data": {
      "text/plain": [
       "364"
      ]
     },
     "execution_count": 9,
     "metadata": {},
     "output_type": "execute_result"
    }
   ],
   "source": [
    "len(repos_with_input_topic)"
   ]
  },
  {
   "cell_type": "code",
   "execution_count": 10,
   "id": "b77f07be-64a3-4451-a0b5-eda00884fc37",
   "metadata": {},
   "outputs": [
    {
     "data": {
      "text/plain": [
       "['surrealdb/surrealdb',\n",
       " 'cayleygraph/cayley',\n",
       " 'neo4j/neo4j',\n",
       " 'arangodb/arangodb',\n",
       " 'vesoft-inc/nebula',\n",
       " 'JanusGraph/janusgraph',\n",
       " 'orientechnologies/orientdb',\n",
       " 'cozodb/cozo',\n",
       " 'apache/age',\n",
       " 'terminusdb/terminusdb',\n",
       " 'jm199504/Financial-Knowledge-Graphs',\n",
       " 'memgraph/memgraph',\n",
       " 'apache/incubator-hugegraph',\n",
       " 'indradb/indradb',\n",
       " 'alephdata/aleph',\n",
       " 'kuzudb/kuzu',\n",
       " 'apache/tinkerpop',\n",
       " 'RedisGraph/RedisGraph',\n",
       " 'topoteretes/cognee',\n",
       " 'gchq/Gaffer',\n",
       " 'neo4j-contrib/neo4j-apoc-procedures',\n",
       " 'totogo/awesome-knowledge-graph',\n",
       " 'fortunejs/fortune',\n",
       " 'neo4jrb/activegraph',\n",
       " 'skaiworldwide-oss/agensgraph',\n",
       " 'jbmusso/awesome-graph',\n",
       " 'oxigraph/oxigraph',\n",
       " 'krotik/eliasdb',\n",
       " 'neo4j/neo4j-python-driver',\n",
       " 'FalkorDB/FalkorDB',\n",
       " 'blazegraph/database',\n",
       " 'opencog/atomspace',\n",
       " 'antvis/G6VP',\n",
       " 'vesoft-inc/nebula-graph',\n",
       " 'krlawrence/graph',\n",
       " 'structr/structr',\n",
       " 'neo4j-contrib/neo4j-graph-algorithms',\n",
       " 'brettkromkamp/awesome-knowledge-management',\n",
       " 'maxdemarzi/neography',\n",
       " 'unum-cloud/ustore',\n",
       " 'mpollmeier/gremlin-scala',\n",
       " 'brandonbloom/jseg',\n",
       " 'neo4j/neo4j-graphrag-python',\n",
       " 'Pometry/Raphtory',\n",
       " 'googlearchive/graphd',\n",
       " 'neo4j-graphql/neo4j-graphql',\n",
       " 'neo4j-examples/movies-python-bolt',\n",
       " 'aws/graph-explorer',\n",
       " 'graphaware/neo4j-nlp',\n",
       " 'graphikDB/graphik',\n",
       " 'arun1729/cog',\n",
       " 'helicalinsight/helicalinsight',\n",
       " 'jexp/neo4j-3d-force-graph',\n",
       " 'FalkorDB/GraphRAG-SDK',\n",
       " 'LHRLAB/ChatKBQA',\n",
       " 'TrustAGI-Lab/graph_datasets',\n",
       " 'deepgraph/deepgraph',\n",
       " 'apache/age-viewer',\n",
       " 'memgraph/mage',\n",
       " 'tigergraph/ecosys',\n",
       " 'opsmill/infrahub',\n",
       " 'florinpatrascu/bolt_sips',\n",
       " 'brettkromkamp/topic-db',\n",
       " 'rayokota/hgraphdb',\n",
       " 'memgraph/gqlalchemy',\n",
       " 'ArangoDB-Community/pyArango',\n",
       " 'neo4j/neo4j-dotnet-driver',\n",
       " 'archesproject/arches',\n",
       " 'eclipse-jnosql/jnosql',\n",
       " 'lilactown/pyramid',\n",
       " 'neo4j-contrib/neo4j-etl',\n",
       " 'umitkaanusta/reddit-detective',\n",
       " 'degdb/degdb',\n",
       " 'jbmusso/gremlin-javascript',\n",
       " 'awslabs/realtime-fraud-detection-with-gnn-on-dgl',\n",
       " 'quadstorejs/quadstore',\n",
       " 'neo4j/graph-data-science-client',\n",
       " 'homebaseio/homebase-react',\n",
       " 'oracle/pgql-lang',\n",
       " 'skaiworldwide-oss/AgensGraph-Extension',\n",
       " 'neo4j-examples/movies-javascript-bolt',\n",
       " 'arturo-lang/grafito',\n",
       " 'neo4j-contrib/neo4j-streams',\n",
       " 'bugthesystem/pyley',\n",
       " 'cleishm/libneo4j-client',\n",
       " 'graphaware/neo4j-php-ogm',\n",
       " 'gremlin-orm/gremlin-orm',\n",
       " 'nebula-contrib/ngbatis',\n",
       " 'Syncleus/Ferma',\n",
       " 'FalkorDB/code-graph',\n",
       " 'northwesternmutual/grammes',\n",
       " 'amjarmed/Awesome-AnyType-Resources',\n",
       " 'liquibase/liquigraph',\n",
       " 'bio4j/bio4j',\n",
       " 'vesoft-inc/nebula-docker-compose',\n",
       " 'dyedgreen/cqlite',\n",
       " 'cyanheads/atlas-mcp-server',\n",
       " 'zefhub/zef',\n",
       " 'aplbrain/grand',\n",
       " 'awslabs/graphrag-toolkit',\n",
       " 'muni-town/weird',\n",
       " 'aplbrain/grand-cypher',\n",
       " 'benedekrozemberczki/tigerlily',\n",
       " 'neo4jrb/neo4j-core',\n",
       " 'instautils/instagraph',\n",
       " 'neo4j/trillion-graph',\n",
       " 'the-qa-company/qEndpoint',\n",
       " 'neo4j-examples/movies-java-bolt',\n",
       " 'h-omer/neo4j-versioner-core',\n",
       " 'aplbrain/dotmotif',\n",
       " 'graphgeeks-lab/awesome-graph-universe',\n",
       " 'florinpatrascu/neo4j_sips',\n",
       " 'shobeir/GraphiPy',\n",
       " 'neo4j-php/neo4j-symfony',\n",
       " 'authzed/spicedb-operator',\n",
       " 'yeeeqichen/MedicalKG',\n",
       " 'den1k/subgraph',\n",
       " 'vesoft-inc/nebula-algorithm',\n",
       " 'xjtushilei/pdd_data_set',\n",
       " 'vescale/zgraph',\n",
       " 'authzed/zanzibar-annotated',\n",
       " 'gverse/gverse',\n",
       " 'neo4j-graph-analytics/ml-models',\n",
       " 'wey-gu/nebula-up',\n",
       " 'visallo/vertexium',\n",
       " 'niclasko/Cypher.js',\n",
       " 'rush-db/rushdb',\n",
       " 'Optum/CyFHIR',\n",
       " 'sunsided/janusgraph-docker',\n",
       " 'neo4j-contrib/neo4j-tableau',\n",
       " 'amberzovitis/GraphKer',\n",
       " 'tao-pr/vor-knowledge-graph',\n",
       " 'vesoft-inc/nebula-storage',\n",
       " 'ShiftLeftSecurity/llvm2graphml',\n",
       " 'hardikvasa/database-journal',\n",
       " 'memgraph/docs',\n",
       " 'albertoventurini/graphdb-intellij-plugin',\n",
       " 'lnshi/node-cayley',\n",
       " 'LaravelFreelancerNL/laravel-arangodb',\n",
       " 'youtrackdb/youtrackdb',\n",
       " 'chungquantin/solomon-db',\n",
       " 'neo4j-contrib/trumpworld-graph',\n",
       " 'cncf/landscape-graph',\n",
       " 'nebula-contrib/nebula-carina',\n",
       " 'jexp/spoon-neo4j',\n",
       " 'rcolinp/clinical_informatics_umls',\n",
       " 'nebula-contrib/nebula-jdbc',\n",
       " 'neo4j-drivers/seabolt',\n",
       " 'redteam-project/sckg',\n",
       " 'lmangani/kibana_graph',\n",
       " 'Wabri/LearningNeo4j',\n",
       " 'fabiomercorio/GraphDBLP',\n",
       " 'gremlify/gremlify',\n",
       " 'OSMIHelp/osmi-survey-graph',\n",
       " 'semagrow/semagrow',\n",
       " 'prrao87/db-hub-fastapi',\n",
       " 'renderpci/dedalo',\n",
       " 'glesica/Neo4j.jl',\n",
       " 'jexp/fincen',\n",
       " 'mikestaub/slack-lunch-club',\n",
       " 'prrao87/kuzudb-study',\n",
       " 'neo4j-contrib/neo4j-faker',\n",
       " 'wey-gu/jupyter_nebulagraph',\n",
       " 'OPEN-NEXT/OKH-LOSH',\n",
       " 'YuanchengJiang/GraphGenie',\n",
       " 'nogdb/libnogdb',\n",
       " 'MNoorFawi/recommendation-engine-with-neo4j',\n",
       " 'liberation-data/drivine-inspiration',\n",
       " 'coreyauger/reactive-gremlin',\n",
       " 'memgraph/jupyter-memgraph-tutorials',\n",
       " 'vesoft-inc/nebula-exchange',\n",
       " 'JorgeCeja/graphql-yoga-starter',\n",
       " 'DerwenAI/ERKG',\n",
       " 'jgaskins/neo4j.cr',\n",
       " 'IgorRozani/Public-Transport-SP-Graph-Database',\n",
       " 'neo4j/neo4j-python-driver-rust-ext',\n",
       " 'webbery/gqlite',\n",
       " 'stellasia/pygds',\n",
       " 'shutterstock/gremlin-aws-sigv4',\n",
       " 'JuliaComputing/SQLiteGraph.jl',\n",
       " 'sardinois/eth_graph',\n",
       " 'mschae/boltex',\n",
       " 'FalkorDB/falkordb-browser',\n",
       " 'coneda/kor',\n",
       " 'UtrechtUniversity/ricgraph',\n",
       " 'pachadb/pachadb',\n",
       " 'RedisGraph/redisgraph-rb',\n",
       " 'GraphScope/portal',\n",
       " 'catedrasaes-umu/NoSQLDataEngineering',\n",
       " 'marceloneppel/dgraph',\n",
       " 'MRCIEU/epigraphdb-r',\n",
       " 'MRCIEU/epigraphdb',\n",
       " 'giapnguyen74/gstate',\n",
       " 'microsoft/MigrateToGraph',\n",
       " 'uber/uber-graph-benchmark',\n",
       " 'yildizdb/yildiz',\n",
       " 'willhl/BuildingGraph-Client-Revit',\n",
       " 'rhizome-ai/apache-age-python',\n",
       " 'Blitzapps/blitz-orm',\n",
       " 'imri/mizo',\n",
       " 'GSK-Biostatistics/neointerface',\n",
       " 'maxdemarzi/uranusdb',\n",
       " 'Connected-Data/cdkg-challenge',\n",
       " 'zediogoviana/ethcule-poirot',\n",
       " 'OKTAYKIR/NeoClient',\n",
       " 'TheHive-Project/ScalliGraph',\n",
       " 'ShimaaBetah/GraphoPlex',\n",
       " 'memgraph/starlink',\n",
       " 'adam-cowley/neode-querybuilder',\n",
       " 'ekzhang/graphon',\n",
       " 'wey-gu/NebulaGraph-NX',\n",
       " 'crflynn/redisgraph-ex',\n",
       " 'quarkiverse/quarkus-neo4j',\n",
       " 'ashvardanian/NetworkXternal',\n",
       " 'arangodb/docs',\n",
       " 'blockchain-etl/ethereum-etl-neo4j',\n",
       " 'JNOSQL/jnosql.github.io',\n",
       " 'detectiveboys/dgraph-docs-zh-cn',\n",
       " 'skaiworldwide-oss/agensgraph-jdbc',\n",
       " 'thundergolfer/simplegraphdb',\n",
       " 'stefanak-michal/memgraph-bolt-wrapper',\n",
       " 'element114/arangoq',\n",
       " 'kristianmandrup/cypher-query',\n",
       " 'ostis-ai/sc-machine',\n",
       " 'instautils/spider',\n",
       " 'unswdb/kuzu-wasm',\n",
       " 'JNOSQL/jnosql-book',\n",
       " 'skvrahul/dagoba',\n",
       " 'neo4j-contrib/neo4j-script-procedures',\n",
       " 'NC0DER/GraphOfDocs',\n",
       " 'webmaxru/angular-neo4j',\n",
       " 'DLR-SC/prov-db-connector',\n",
       " 'haysons/nebulaorm',\n",
       " 'gdbmeter/gdbmeter',\n",
       " 'miyurud/jasminegraph',\n",
       " 'memgraph/graph-landscape-2022',\n",
       " 'ckoenigs/PharMeBINet',\n",
       " 'BioDWH2/BioDWH2',\n",
       " 'vesoft-inc/nebula-dev-docker',\n",
       " 'SvenWesterlaken/mongo4j',\n",
       " 'arashsheyda/nuxt-neo4j',\n",
       " 'memgraph/card-fraud',\n",
       " 'mahdi-eth/neo4j-social-netwrok',\n",
       " 'reactive-graph/reactive-graph',\n",
       " 'GraphScope/GRIN',\n",
       " 'RomanoLab/comptox_ai',\n",
       " 'blockchain-etl/bitcoin-etl-airflow-neo4j',\n",
       " 'ziyasal-archive/Cayley.Net',\n",
       " 'parkererickson/pyTigerGraph',\n",
       " 'nileshkhetrapal/YassQueenDB',\n",
       " 'kerighan/kinbaku',\n",
       " 'DrSnowbird/blazegraph-docker',\n",
       " 'Octavian-ai/experiments',\n",
       " 'Hyperb0rean/DaedalusDB',\n",
       " 'wey-gu/movie-recommendation-dataset',\n",
       " 'rozek/notes-on-gundb',\n",
       " 'sfrechette/adventureworks-neo4j',\n",
       " 'rodydavis/flutter_graph_database',\n",
       " 'SebastianM-C/StorageGraphs.jl',\n",
       " 'kevinkhanda/bubba-db',\n",
       " 'neo4jrb/neo4j-rake_tasks',\n",
       " 'IBM/graph-db-insights',\n",
       " 'FalkorDB/code-graph-backend',\n",
       " 'tum-gis/citygml-change-detection',\n",
       " 'cjus/node-neo4j-presentation',\n",
       " 'wey-gu/nebula-chia',\n",
       " 'megadix/orientdb-spring',\n",
       " 'olange/learning-neo4j',\n",
       " 'FaridYusifli/Multiple_Knowledge_GraphDB-MKGDB',\n",
       " 'enterlab/simplegraph',\n",
       " 'damienfamed75/quirk',\n",
       " 'voutilad/paysim-demo',\n",
       " 'Graph-Power-Solutions/ros_memgraph_min_example',\n",
       " 'IBM/deploy-graph-db-container',\n",
       " 'WileyLabs/levelgraph-playground',\n",
       " 'kevoree-modeling/mwDB',\n",
       " 'OkamiIO/Nomure',\n",
       " 'flosse/r2d2-cypher',\n",
       " 'TUDB-Labs/TuDB',\n",
       " 'xtyxtyx/arango-dart',\n",
       " 'max-bytes/omnikeeper',\n",
       " 'fractalego/parvusdb',\n",
       " 'vtmike2015/Graph-Based-Literature-Review-Tool',\n",
       " 'sim51/graphology-neo4j',\n",
       " 'MatteoGuadrini/nosqlapi',\n",
       " 'clickup/ent-framework',\n",
       " 'SquashConsulting/foxx_typescript',\n",
       " 'SquashConsulting/ArangoPhx',\n",
       " 'tflpd/TAO',\n",
       " 'vchakoshy/graphdb',\n",
       " 'memgraph/documentation',\n",
       " 'volfpeter/graphscraper',\n",
       " 'dominikbraun/graph-sql',\n",
       " 'flavienbwk/Neo4j-Example-Spotifylike',\n",
       " 'fabianmurariu/g4s',\n",
       " 'ilya16/graph-db',\n",
       " 'farinap5/SurrealCLI',\n",
       " 'CBIIT/icdc-model-tool',\n",
       " 'robsdedude/neo4j-rust-driver',\n",
       " 'FalkorDB/falkordb-rs',\n",
       " 'neo4j-graph-examples/get-started',\n",
       " 'TriplyDB/Documentation',\n",
       " 'devership16/CSCI599-DeepLearning',\n",
       " 'wey-gu/nebulagraph-yelp-frauddetection',\n",
       " 'rodydavis/sqlite_storage',\n",
       " 'MeowType/GraphDart',\n",
       " 'kc3-lang/kc3',\n",
       " 'OKTAYKIR/NeoClientDemo',\n",
       " 'stxnext/graph-recommendation-system-demo',\n",
       " 'etix/xdgraph',\n",
       " 'Pronoy999/Bubbles',\n",
       " 'braineering/crimegraph',\n",
       " 'nodestream-proj/nodestream-plugin-akamai',\n",
       " 'Rothamsted/graphdb-benchmarks',\n",
       " 'pannous/netbase',\n",
       " 'ashwini0529/ffcs-using-graphs',\n",
       " 'bigconnect/bigconnect',\n",
       " 'ammarasmro/personalized-knowledge-graphs',\n",
       " 'jguhlin/ODG',\n",
       " 'oncodash/ontoweaver',\n",
       " 'opencog/atomspace-dht',\n",
       " 'JoshuaAmaju/mercury-db',\n",
       " 'pxbao-itus/Learning-Path-Recommendation-System',\n",
       " '33eyes/wiki-clickstream-graph',\n",
       " 'kavir1698/GraphNotes',\n",
       " 'wey-gu/covid-track-graph-datagen',\n",
       " 'bio4j/angulillos',\n",
       " 'Symatem/SymatemJS',\n",
       " 'bhattbhavesh91/neo4j-tutorials',\n",
       " 'bpn1/ingestion',\n",
       " 'shamspias/my-graphDB-learning-lab',\n",
       " 'dgraph-io/dgraph-react-todomvc',\n",
       " 'amitport/graphpack',\n",
       " 'carvilsi/gruphst',\n",
       " 'syedhassaanahmed/neo4j-datasets',\n",
       " 'louisguitton/erkg-tutorials',\n",
       " 'jb123/GraphAnalyticsLib',\n",
       " 'KnowledgeLinks/bibcat',\n",
       " 'rhizome-ai/apache-age-go',\n",
       " 'a-poor/open-cypher',\n",
       " 'euonymus/baryon',\n",
       " 'neo4j/graph-schema-json-js-utils',\n",
       " 'jexp/boltsh',\n",
       " 'darrylyeo/nectar-lang',\n",
       " 'Remixman/Vedas',\n",
       " 'xlfe/cowrie2neo',\n",
       " 'NC0DER/CORD19_GraphOfDocs',\n",
       " 'MNoorFawi/neo4j-and-postgresql-with-R',\n",
       " 'predictiveworks/ignite-graph',\n",
       " 'martinadellobuono/shivadharma-database',\n",
       " 'wey-gu/awesome-graph-dataset',\n",
       " 'h4mu/GraphVisualization',\n",
       " 'y1zhou/metabolike',\n",
       " 'lszeremeta/yarspg',\n",
       " 'senorbacon/mortality',\n",
       " 'geeknam/aws-neptune-aml',\n",
       " 'NSLab-CUK/Graph-Mining-Spring-2025',\n",
       " 'bj-sodas/china-unicorn-index',\n",
       " 'nebula-contrib/nebula-sirius',\n",
       " 'ChiralBehaviors/Ultrastructure',\n",
       " 'bakkdoor/rogato',\n",
       " 'GGabi/OjiDB',\n",
       " 'terminusdb/terminuscms',\n",
       " 'antoniopelusi/openstreetmap-neo4j']"
      ]
     },
     "execution_count": 10,
     "metadata": {},
     "output_type": "execute_result"
    }
   ],
   "source": [
    "repos_with_input_topic"
   ]
  },
  {
   "cell_type": "code",
   "execution_count": 12,
   "id": "014d0e2b-19d9-4070-ba2e-3a553ab7dd6a",
   "metadata": {},
   "outputs": [
    {
     "name": "stdout",
     "output_type": "stream",
     "text": [
      "List successfully written to ./temp/graph_database_R.txt\n"
     ]
    }
   ],
   "source": [
    "write_list_to_file(repos_with_input_topic, \"./temp/graph_database_R.txt\")"
   ]
  },
  {
   "cell_type": "markdown",
   "id": "3129f013-08c4-42d4-94cb-6a8a11aefa94",
   "metadata": {},
   "source": [
    "### Get the Pool of Topics\n",
    "\n",
    "Now we have a set of repos and we can extract the pool of topics from these repos"
   ]
  },
  {
   "cell_type": "code",
   "execution_count": 13,
   "id": "2df4cf2f-819d-4e0f-92e4-ca0950a3de68",
   "metadata": {},
   "outputs": [],
   "source": [
    "topic_pool = []\n",
    "for full_name in repos_with_input_topic:\n",
    "    topic_pool = topic_pool + get_repo_topics(full_name, headers)"
   ]
  },
  {
   "cell_type": "code",
   "execution_count": 14,
   "id": "f3ed2ac9-4669-4c31-b4c5-a9147faa2cee",
   "metadata": {},
   "outputs": [
    {
     "data": {
      "text/plain": [
       "2868"
      ]
     },
     "execution_count": 14,
     "metadata": {},
     "output_type": "execute_result"
    }
   ],
   "source": [
    "len(topic_pool)"
   ]
  },
  {
   "cell_type": "code",
   "execution_count": 15,
   "id": "bee7dd2c-6d61-467f-9801-114e446baa7b",
   "metadata": {},
   "outputs": [],
   "source": [
    "topic_pool_rm_dup = list(set(topic_pool))"
   ]
  },
  {
   "cell_type": "code",
   "execution_count": 16,
   "id": "24ab94fb-d0f1-4fc4-b649-88dffd2f1fe7",
   "metadata": {},
   "outputs": [
    {
     "data": {
      "text/plain": [
       "['record-linking',\n",
       " 'ricgraph-explorer',\n",
       " 'type-safe',\n",
       " 'clude',\n",
       " 'stanford-corenlp',\n",
       " 'jdbc-api',\n",
       " 'trump',\n",
       " 'jdbc-driver',\n",
       " 'knn-search',\n",
       " 'infosec']"
      ]
     },
     "execution_count": 16,
     "metadata": {},
     "output_type": "execute_result"
    }
   ],
   "source": [
    "topic_pool_rm_dup[0:10]"
   ]
  },
  {
   "cell_type": "code",
   "execution_count": 17,
   "id": "687b2464-c316-456c-b887-7d714aac1fb3",
   "metadata": {},
   "outputs": [
    {
     "name": "stdout",
     "output_type": "stream",
     "text": [
      "List successfully written to ./temp/graph_database_T.txt\n"
     ]
    }
   ],
   "source": [
    "write_list_to_file(topic_pool_rm_dup, \"./temp/graph_database_T.txt\")"
   ]
  },
  {
   "cell_type": "markdown",
   "id": "684604fa-7990-40f0-88b8-65feb0dc2f61",
   "metadata": {},
   "source": [
    "### Further Process the Topics"
   ]
  },
  {
   "cell_type": "markdown",
   "id": "b119a629-950e-450b-a7e1-41fd6468b97b",
   "metadata": {},
   "source": [
    "Note:We probably should do this again and again to ensure that the list of tags is thorough"
   ]
  },
  {
   "cell_type": "markdown",
   "id": "857baa1e-a9a2-4afa-a5b7-4c6222915af6",
   "metadata": {},
   "source": [
    "**Step1: Frequency Fiter**"
   ]
  },
  {
   "cell_type": "code",
   "execution_count": 18,
   "id": "13708bc8-e866-4475-92ee-337fabea61d2",
   "metadata": {},
   "outputs": [],
   "source": [
    "topic_counts = Counter(topic_pool)"
   ]
  },
  {
   "cell_type": "code",
   "execution_count": 19,
   "id": "cd222f1f-2b31-4488-88b4-3d862360bf93",
   "metadata": {},
   "outputs": [],
   "source": [
    "filtered_topic_counts = {topic: count for topic, count in topic_counts.items() if count >= 5}"
   ]
  },
  {
   "cell_type": "code",
   "execution_count": 20,
   "id": "27008a67-c035-4f92-99eb-fd8ad3dfef6b",
   "metadata": {},
   "outputs": [
    {
     "data": {
      "text/plain": [
       "['database',\n",
       " 'distributed',\n",
       " 'distributed-database',\n",
       " 'document-database',\n",
       " 'serverless',\n",
       " 'sql',\n",
       " 'nosql',\n",
       " 'graph-database',\n",
       " 'graph',\n",
       " 'go',\n",
       " 'linked-data',\n",
       " 'cypher',\n",
       " 'graphdb',\n",
       " 'neo4j',\n",
       " 'arangodb',\n",
       " 'nebula-graph',\n",
       " 'nebulagraph',\n",
       " 'big-data',\n",
       " 'distributed-systems',\n",
       " 'hacktoberfest',\n",
       " 'tinkerpop',\n",
       " 'gremlin',\n",
       " 'hbase',\n",
       " 'elasticsearch',\n",
       " 'orientdb',\n",
       " 'embedded-database',\n",
       " 'graph-algorithms',\n",
       " 'postgresql',\n",
       " 'analytics',\n",
       " 'open-source',\n",
       " 'data-analysis',\n",
       " 'python',\n",
       " 'opencypher',\n",
       " 'rust',\n",
       " 'ai',\n",
       " 'knowledge-graph',\n",
       " 'graphrag',\n",
       " 'orm',\n",
       " 'sparql',\n",
       " 'golang',\n",
       " 'query-language',\n",
       " 'graphql',\n",
       " 'driver',\n",
       " 'database-driver',\n",
       " 'python3',\n",
       " 'rdf',\n",
       " 'graph-visualization',\n",
       " 'business-intelligence',\n",
       " 'graphs',\n",
       " 'react',\n",
       " 'typescript',\n",
       " 'visualization',\n",
       " 'semantic-web',\n",
       " 'neo4j-driver',\n",
       " 'networkx',\n",
       " 'scala',\n",
       " 'genai',\n",
       " 'bolt',\n",
       " 'machine-learning',\n",
       " 'graph-theory',\n",
       " 'mongodb',\n",
       " 'javascript',\n",
       " 'llm',\n",
       " 'data-science',\n",
       " 'memgraph',\n",
       " 'elixir',\n",
       " 'ogm',\n",
       " 'nosql-databases',\n",
       " 'nosql-database',\n",
       " 'cypher-query',\n",
       " 'social-network',\n",
       " 'api',\n",
       " 'aws',\n",
       " 'nodejs',\n",
       " 'triplestore',\n",
       " 'graph-data-science',\n",
       " 'sqlite',\n",
       " 'php',\n",
       " 'java',\n",
       " 'bioinformatics',\n",
       " 'graph-databases',\n",
       " 'docker',\n",
       " 'cypher-query-language',\n",
       " 'in-memory-database',\n",
       " 'documentation',\n",
       " 'dgraph',\n",
       " 'neo4j-database',\n",
       " 'dart']"
      ]
     },
     "execution_count": 20,
     "metadata": {},
     "output_type": "execute_result"
    }
   ],
   "source": [
    "list(filtered_topic_counts.keys())"
   ]
  },
  {
   "cell_type": "markdown",
   "id": "e93b90d4-8841-4dba-8893-d917f036453d",
   "metadata": {},
   "source": [
    "**Step2: Similarity Filter**"
   ]
  },
  {
   "cell_type": "code",
   "execution_count": 21,
   "id": "e232fed8-ff9c-42a9-a3fd-2475b4bf6acf",
   "metadata": {},
   "outputs": [
    {
     "data": {
      "application/vnd.jupyter.widget-view+json": {
       "model_id": "f6acb29ea4a149e7859d342d894c71a5",
       "version_major": 2,
       "version_minor": 0
      },
      "text/plain": [
       "README.md:   0%|          | 0.00/10.5k [00:00<?, ?B/s]"
      ]
     },
     "metadata": {},
     "output_type": "display_data"
    }
   ],
   "source": [
    "model_name = \"all-MiniLM-L6-v2\"\n",
    "similar_topics = compute_topic_similarities(model_name, input_topic, list(filtered_topic_counts.keys()), 0.5)"
   ]
  },
  {
   "cell_type": "code",
   "execution_count": 22,
   "id": "4d61e931-d058-4c22-aaf9-4ef3fe3fff80",
   "metadata": {},
   "outputs": [
    {
     "data": {
      "text/plain": [
       "19"
      ]
     },
     "execution_count": 22,
     "metadata": {},
     "output_type": "execute_result"
    }
   ],
   "source": [
    "len(similar_topics)"
   ]
  },
  {
   "cell_type": "code",
   "execution_count": 23,
   "id": "3c4a820e-a726-4cb9-9cfa-2a40aa0bbd5b",
   "metadata": {},
   "outputs": [
    {
     "data": {
      "text/plain": [
       "['graph-database',\n",
       " 'graph',\n",
       " 'graphdb',\n",
       " 'graph-algorithms',\n",
       " 'graphrag',\n",
       " 'graphql',\n",
       " 'graph-visualization',\n",
       " 'graphs',\n",
       " 'graph-theory',\n",
       " 'graph-data-science',\n",
       " 'graph-databases',\n",
       " 'nosql',\n",
       " 'nosql-databases',\n",
       " 'nosql-database',\n",
       " 'knowledge-graph',\n",
       " 'linked-data',\n",
       " 'dgraph',\n",
       " 'neo4j-database',\n",
       " 'database']"
      ]
     },
     "execution_count": 23,
     "metadata": {},
     "output_type": "execute_result"
    }
   ],
   "source": [
    "similar_topics"
   ]
  },
  {
   "cell_type": "markdown",
   "id": "cd995af5-f235-43ac-b96e-4ce6c82747a4",
   "metadata": {},
   "source": [
    "**Step3: Mannually Craft(Human in the Loop)** "
   ]
  },
  {
   "cell_type": "code",
   "execution_count": 24,
   "id": "a6a3d499-04c5-4691-805f-9540e69385a4",
   "metadata": {},
   "outputs": [],
   "source": [
    "# with the help of OpenAI O3-Mini\n",
    "similar_topics = [\n",
    "    \"graph-database\",\n",
    "    \"graphdb\",\n",
    "    \"neo4j\",\n",
    "    \"arangodb\",\n",
    "    \"nebula-graph\",\n",
    "    \"orientdb\",\n",
    "    \"memgraph\",\n",
    "    \"dgraph\",\n",
    "    \"cypher\",\n",
    "    \"opencypher\",\n",
    "    \"cypher-query\",\n",
    "    \"cypher-query-language\",\n",
    "    \"gremlin\",\n",
    "    \"tinkerpop\",\n",
    "    \"sparql\",\n",
    "]"
   ]
  },
  {
   "cell_type": "markdown",
   "id": "44671b18-213a-4b9b-9cb1-3a6d37762b1d",
   "metadata": {},
   "source": [
    "### Get All Possible Repos"
   ]
  },
  {
   "cell_type": "code",
   "execution_count": 25,
   "id": "14114ea0-4528-454b-b77f-f43df2a33b68",
   "metadata": {},
   "outputs": [],
   "source": [
    "final_list_repos = [ ]\n",
    "for topic in similar_topics:\n",
    "    ls_repos = search_github_repos_by_topic(topic, headers)\n",
    "    final_list_repos = final_list_repos + ls_repos"
   ]
  },
  {
   "cell_type": "code",
   "execution_count": 26,
   "id": "6d142759-3c3a-4b26-98f3-b7d5fc0057d6",
   "metadata": {},
   "outputs": [],
   "source": [
    "final_list_rm_dup = list(set(final_list_repos)) "
   ]
  },
  {
   "cell_type": "code",
   "execution_count": 27,
   "id": "1b755ce0-43ca-4822-8c3a-a62402b57821",
   "metadata": {},
   "outputs": [
    {
     "data": {
      "text/plain": [
       "1588"
      ]
     },
     "execution_count": 27,
     "metadata": {},
     "output_type": "execute_result"
    }
   ],
   "source": [
    "len(final_list_rm_dup)"
   ]
  },
  {
   "cell_type": "markdown",
   "id": "40fcec34-e625-4019-a83b-148f8b43dba4",
   "metadata": {},
   "source": [
    "### Extract All Possible Information for a Repo"
   ]
  },
  {
   "cell_type": "code",
   "execution_count": 28,
   "id": "b80eb019-9882-46b9-a01b-dd083b3cb326",
   "metadata": {
    "scrolled": true
   },
   "outputs": [],
   "source": [
    "# Function to fetch repository details\n",
    "def get_repo_data(repo_name, headers):\n",
    "    url = f\"https://api.github.com/repos/{repo_name}\"\n",
    "    response = requests.get(url, headers=headers)\n",
    "\n",
    "    if response.status_code == 200:\n",
    "        return response.json()\n",
    "    else:\n",
    "        print(f\"Error fetching repo {repo_name}: {response.status_code}\")\n",
    "        return None\n",
    "\n",
    "# List of repositories (ensure full names: 'owner/repo')\n",
    "repo_data = []\n",
    "for repo in final_list_rm_dup:\n",
    "    repo_info = get_repo_data(repo, headers)\n",
    "    if repo_info:\n",
    "        repo_data.append(repo_info)  # Stores full JSON response\n",
    "\n",
    "# Convert list of dictionaries into DataFrame\n",
    "df_repos = pd.DataFrame(repo_data)"
   ]
  },
  {
   "cell_type": "code",
   "execution_count": 29,
   "id": "51ddf1f3-6c86-4895-b289-187df710320d",
   "metadata": {},
   "outputs": [],
   "source": [
    "df_repos.to_csv(\"./temp/graph_database_kb.csv\")"
   ]
  }
 ],
 "metadata": {
  "kernelspec": {
   "display_name": "Python 3 (ipykernel)",
   "language": "python",
   "name": "python3"
  },
  "language_info": {
   "codemirror_mode": {
    "name": "ipython",
    "version": 3
   },
   "file_extension": ".py",
   "mimetype": "text/x-python",
   "name": "python",
   "nbconvert_exporter": "python",
   "pygments_lexer": "ipython3",
   "version": "3.13.1"
  }
 },
 "nbformat": 4,
 "nbformat_minor": 5
}
